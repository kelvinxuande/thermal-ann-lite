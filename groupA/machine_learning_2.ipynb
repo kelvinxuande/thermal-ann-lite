{
 "cells": [
  {
   "cell_type": "markdown",
   "metadata": {},
   "source": [
    "# Part of ML experiments Group A\n",
    "\n",
    "Data reflective of those of rail operations. LDPRF 2097 is used for training while LDPRF 2098 is used for testing.\n",
    "The training dataset was at full size, without 10% reductions.\n",
    "\n",
    "### Import necessary libraries"
   ]
  },
  {
   "cell_type": "code",
   "execution_count": 1,
   "metadata": {},
   "outputs": [
    {
     "name": "stderr",
     "output_type": "stream",
     "text": [
      "Using TensorFlow backend.\n"
     ]
    },
    {
     "data": {
      "text/plain": [
       "<module 'thermalModel_groupB' from 'C:\\\\Users\\\\user\\\\Anaconda3\\\\lib\\\\thermalModel_groupB.py'>"
      ]
     },
     "execution_count": 1,
     "metadata": {},
     "output_type": "execute_result"
    }
   ],
   "source": [
    "import numpy as np\n",
    "import pandas as pd\n",
    "import copy\n",
    "import tensorflow as tf\n",
    "from tensorflow import keras\n",
    "from tensorflow.keras import layers\n",
    "\n",
    "# import codebase\n",
    "import thermalModel_main as tmm\n",
    "import thermalModel_groupB as tm_gb\n",
    "\n",
    "import importlib\n",
    "importlib.reload(tmm)\n",
    "importlib.reload(tm_gb)"
   ]
  },
  {
   "cell_type": "markdown",
   "metadata": {},
   "source": [
    "## ANN Ah Model\n",
    "\n",
    "### Data loading and cleaning"
   ]
  },
  {
   "cell_type": "code",
   "execution_count": 2,
   "metadata": {},
   "outputs": [
    {
     "name": "stderr",
     "output_type": "stream",
     "text": [
      "C:\\Users\\user\\Anaconda3\\lib\\thermalModel_groupB.py:47: SettingWithCopyWarning: \n",
      "A value is trying to be set on a copy of a slice from a DataFrame\n",
      "\n",
      "See the caveats in the documentation: http://pandas.pydata.org/pandas-docs/stable/indexing.html#indexing-view-versus-copy\n",
      "  df['second'][set_index[index]:set_index[index+1]] = df['second'][set_index[index]:set_index[index+1]] + second_increment[index]\n",
      "C:\\Users\\user\\Anaconda3\\lib\\thermalModel_groupB.py:49: SettingWithCopyWarning: \n",
      "A value is trying to be set on a copy of a slice from a DataFrame\n",
      "\n",
      "See the caveats in the documentation: http://pandas.pydata.org/pandas-docs/stable/indexing.html#indexing-view-versus-copy\n",
      "  df['second'][set_index[index]:] = df['second'][set_index[index]:] + second_increment[index]\n",
      "C:\\Users\\user\\Anaconda3\\lib\\thermalModel_groupB.py:56: SettingWithCopyWarning: \n",
      "A value is trying to be set on a copy of a slice from a DataFrame\n",
      "\n",
      "See the caveats in the documentation: http://pandas.pydata.org/pandas-docs/stable/indexing.html#indexing-view-versus-copy\n",
      "  df['second'][set_index[index]:] = df['second'][set_index[index]:] + seconds_summation[index]\n"
     ]
    }
   ],
   "source": [
    "df = tm_gb.load_csv(filename = 'LDPRF_2097.csv', \n",
    "#                     data_list = ['Program time','AhCha','AhDch','Temp'], \n",
    "                    features_list = ['runtime_s','AhCha','AhDch','Amb','Temp'], \n",
    "                    mode = 0)\n",
    "\n",
    "df1 = tm_gb.load_csv(filename = 'LDPRF_2098.csv', \n",
    "#                      data_list = ['Program time','AhCha','AhDch','Temp'], \n",
    "                     features_list = ['runtime_s','AhCha','AhDch','Amb','Temp'], \n",
    "                     mode = 0)"
   ]
  },
  {
   "cell_type": "code",
   "execution_count": 3,
   "metadata": {
    "scrolled": false
   },
   "outputs": [
    {
     "name": "stdout",
     "output_type": "stream",
     "text": [
      "               AhCha          AhDch           Amb           Temp\n",
      "count  435839.000000  435839.000000  4.358390e+05  435839.000000\n",
      "mean      126.363856     144.644944  2.579465e+01      34.312581\n",
      "std        72.924632      74.703530  2.402277e-10       2.060416\n",
      "min         0.000000       0.000000  2.579465e+01      25.794650\n",
      "25%        64.452000      81.299000  2.579465e+01      33.008410\n",
      "50%       126.039000     145.061000  2.579465e+01      35.085100\n",
      "75%       187.997000     208.479000  2.579465e+01      35.850190\n",
      "max       252.040000     272.253000  2.579465e+01      36.724590\n",
      "               AhCha          AhDch           Amb           Temp\n",
      "count  435839.000000  435839.000000  4.358390e+05  435839.000000\n",
      "mean      126.437695     143.968215  2.626750e+01      34.934164\n",
      "std        72.927347      74.268447  6.600594e-11       1.938317\n",
      "min         0.000000       0.000000  2.626750e+01      26.267500\n",
      "25%        64.531000      80.996500  2.626750e+01      33.803260\n",
      "50%       126.152000     144.421000  2.626750e+01      35.741030\n",
      "75%       188.089000     207.443000  2.626750e+01      36.386950\n",
      "max       252.044000     270.765000  2.626750e+01      37.032870\n",
      "Run parameters: 1_[3]_relu_earlyStop\n",
      "Restoring model weights from the end of the best epoch\n",
      "Epoch 00006: early stopping\n",
      "Time to train model: 86.9372091293335 seconds\n"
     ]
    }
   ],
   "source": [
    "ANN_Ah_models_2097 = {}\n",
    "ANN_Ah_me_2097 = {}\n",
    "\n",
    "df_train = df.copy(deep=True)\n",
    "df_train.drop(columns = ['runtime_s'], inplace = True)\n",
    "try:\n",
    "    df1.drop(columns = ['runtime_s'], inplace = True)\n",
    "except:\n",
    "    pass\n",
    "    \n",
    "print(df_train.describe())\n",
    "print(df1.describe())\n",
    "    \n",
    "Ah_models_2097, Ah_me_2097 = tmm.loop_run_instances(identifier = \"ANN\" + '_' + \"full_size\", \n",
    "                                                       loop_name = \"Ah_model\", \n",
    "                                                       num_layers = 1, \n",
    "                                                       train_dataframe = df_train, \n",
    "                                                       test_dataframe = df1, \n",
    "                                                       num_inputs = 3, \n",
    "                                                       start_window_size = 1, \n",
    "                                                       end_window_size = 1, \n",
    "                                                       window_size_step = 1, \n",
    "                                                       test_size = 0, \n",
    "                                                       num_epochs = 1000)\n",
    "    \n",
    "ANN_Ah_models_2097[\"ANN\" + '_' + \"full_size\"] = Ah_models_2097\n",
    "ANN_Ah_me_2097[\"ANN\" + '_' + \"full_size\"] = copy.deepcopy(Ah_me_2097)"
   ]
  },
  {
   "cell_type": "code",
   "execution_count": 4,
   "metadata": {},
   "outputs": [],
   "source": [
    "importlib.reload(tmm)\n",
    "importlib.reload(tm_gb)\n",
    "ANN_Ah_models_2097_df = tm_gb.extract_complexity(nested_model_dictionary = ANN_Ah_models_2097, \n",
    "                                                 nested_errors_dictionary = ANN_Ah_me_2097)"
   ]
  },
  {
   "cell_type": "code",
   "execution_count": 5,
   "metadata": {},
   "outputs": [
    {
     "data": {
      "text/html": [
       "<div>\n",
       "<style scoped>\n",
       "    .dataframe tbody tr th:only-of-type {\n",
       "        vertical-align: middle;\n",
       "    }\n",
       "\n",
       "    .dataframe tbody tr th {\n",
       "        vertical-align: top;\n",
       "    }\n",
       "\n",
       "    .dataframe thead th {\n",
       "        text-align: right;\n",
       "    }\n",
       "</style>\n",
       "<table border=\"1\" class=\"dataframe\">\n",
       "  <thead>\n",
       "    <tr style=\"text-align: right;\">\n",
       "      <th></th>\n",
       "      <th>Percentage_reduced</th>\n",
       "      <th>NN_size</th>\n",
       "      <th>mean_error</th>\n",
       "    </tr>\n",
       "  </thead>\n",
       "  <tbody>\n",
       "    <tr>\n",
       "      <th>0</th>\n",
       "      <td>10</td>\n",
       "      <td>16</td>\n",
       "      <td>0.31036</td>\n",
       "    </tr>\n",
       "  </tbody>\n",
       "</table>\n",
       "</div>"
      ],
      "text/plain": [
       "   Percentage_reduced  NN_size  mean_error\n",
       "0                  10       16     0.31036"
      ]
     },
     "execution_count": 5,
     "metadata": {},
     "output_type": "execute_result"
    }
   ],
   "source": [
    "ANN_Ah_models_2097_df"
   ]
  },
  {
   "cell_type": "markdown",
   "metadata": {},
   "source": [
    "## ANN IV Model\n",
    "\n",
    "### Data loading and cleaning"
   ]
  },
  {
   "cell_type": "code",
   "execution_count": 6,
   "metadata": {},
   "outputs": [],
   "source": [
    "df = tm_gb.load_csv(filename = 'LDPRF_2097.csv', \n",
    "#                     data_list = ['Program time','AhCha','AhDch','Temp'], \n",
    "                    features_list = ['runtime_s','Current','Voltage','Amb','Temp'], \n",
    "                    mode = 1)\n",
    "\n",
    "df1 = tm_gb.load_csv(filename = 'LDPRF_2098.csv', \n",
    "#                      data_list = ['Program time','AhCha','AhDch','Temp'], \n",
    "                     features_list = ['runtime_s','Current','Voltage','Amb','Temp'], \n",
    "                     mode = 1)"
   ]
  },
  {
   "cell_type": "code",
   "execution_count": 7,
   "metadata": {
    "scrolled": false
   },
   "outputs": [
    {
     "name": "stdout",
     "output_type": "stream",
     "text": [
      "             Current        Voltage           Amb           Temp\n",
      "count  435839.000000  435839.000000  4.358390e+05  435839.000000\n",
      "mean       -0.595961       3.775370  2.579465e+01      34.312581\n",
      "std        85.854861       0.091213  2.402277e-10       2.060416\n",
      "min      -177.639340       3.536830  2.579465e+01      25.794650\n",
      "25%         0.009580       3.730960  2.579465e+01      33.008410\n",
      "50%         0.009580       3.766810  2.579465e+01      35.085100\n",
      "75%         0.019150       3.807290  2.579465e+01      35.850190\n",
      "max       223.268950       4.160100  2.579465e+01      36.724590\n",
      "             Current        Voltage           Amb           Temp\n",
      "count  435839.000000  435839.000000  4.358390e+05  435839.000000\n",
      "mean       -0.497548       3.782469  2.626750e+01      34.934164\n",
      "std        85.732075       0.086605  6.600594e-11       1.938317\n",
      "min      -176.603480       3.557440  2.626750e+01      26.267500\n",
      "25%         0.009560       3.741410  2.626750e+01      33.803260\n",
      "50%         0.009560       3.773560  2.626750e+01      35.741030\n",
      "75%         0.009560       3.813390  2.626750e+01      36.386950\n",
      "max       222.893370       4.161120  2.626750e+01      37.032870\n",
      "Run parameters: 1_[3]_relu_earlyStop\n",
      "Restoring model weights from the end of the best epoch\n",
      "Epoch 00257: early stopping\n",
      "Time to train model: 5597.285449266434 seconds\n"
     ]
    }
   ],
   "source": [
    "ANN_IV_models_2097 = {}\n",
    "ANN_IV_me_2097 = {}\n",
    "\n",
    "df_train = df.copy(deep=True)\n",
    "df_train.drop(columns = ['runtime_s'], inplace = True)\n",
    "try:\n",
    "    df1.drop(columns = ['runtime_s'], inplace = True)\n",
    "except:\n",
    "    pass\n",
    "    \n",
    "print(df_train.describe())\n",
    "print(df1.describe())\n",
    "    \n",
    "IV_models_2097, IV_me_2097 = tmm.loop_run_instances(identifier = \"ANN\" + '_' + \"full_size\", \n",
    "                                                       loop_name = \"IV_model\", \n",
    "                                                       num_layers = 1, \n",
    "                                                       train_dataframe = df_train, \n",
    "                                                       test_dataframe = df1, \n",
    "                                                       num_inputs = 3, \n",
    "                                                       start_window_size = 1, \n",
    "                                                       end_window_size = 1, \n",
    "                                                       window_size_step = 1, \n",
    "                                                       test_size = 0, \n",
    "                                                       num_epochs = 1000)\n",
    "\n",
    "ANN_IV_models_2097[\"ANN\" + '_' + \"full_size\"] = IV_models_2097\n",
    "ANN_IV_me_2097[\"ANN\" + '_' + \"full_size\"] = copy.deepcopy(IV_me_2097)"
   ]
  },
  {
   "cell_type": "markdown",
   "metadata": {},
   "source": [
    "## ANN Hybrid Model\n",
    "\n",
    "### Data loading and cleaning"
   ]
  },
  {
   "cell_type": "code",
   "execution_count": 8,
   "metadata": {},
   "outputs": [],
   "source": [
    "df = tm_gb.load_csv(filename = 'LDPRF_2097.csv', \n",
    "#                     data_list = ['Program time','Current','Voltage','AhCha','AhDch','Temp'], \n",
    "                    features_list = ['runtime_s','Current','Voltage','AhCha','AhDch','Amb','Temp'], \n",
    "                    mode = 2)\n",
    "\n",
    "df1 = tm_gb.load_csv(filename = 'LDPRF_2098.csv', \n",
    "#                      data_list = ['Program time','Current','Voltage','AhCha','AhDch','Temp'], \n",
    "                     features_list = ['runtime_s','Current','Voltage','AhCha','AhDch','Amb','Temp'], \n",
    "                     mode = 2)"
   ]
  },
  {
   "cell_type": "code",
   "execution_count": 9,
   "metadata": {
    "scrolled": false
   },
   "outputs": [
    {
     "name": "stdout",
     "output_type": "stream",
     "text": [
      "             Current        Voltage          AhCha          AhDch  \\\n",
      "count  435839.000000  435839.000000  435839.000000  435839.000000   \n",
      "mean       -0.595961       3.775370     126.363856     144.644944   \n",
      "std        85.854861       0.091213      72.924632      74.703530   \n",
      "min      -177.639340       3.536830       0.000000       0.000000   \n",
      "25%         0.009580       3.730960      64.452000      81.299000   \n",
      "50%         0.009580       3.766810     126.039000     145.061000   \n",
      "75%         0.019150       3.807290     187.997000     208.479000   \n",
      "max       223.268950       4.160100     252.040000     272.253000   \n",
      "\n",
      "                Amb           Temp  \n",
      "count  4.358390e+05  435839.000000  \n",
      "mean   2.579465e+01      34.312581  \n",
      "std    2.402277e-10       2.060416  \n",
      "min    2.579465e+01      25.794650  \n",
      "25%    2.579465e+01      33.008410  \n",
      "50%    2.579465e+01      35.085100  \n",
      "75%    2.579465e+01      35.850190  \n",
      "max    2.579465e+01      36.724590  \n",
      "             Current        Voltage          AhCha          AhDch  \\\n",
      "count  435839.000000  435839.000000  435839.000000  435839.000000   \n",
      "mean       -0.497548       3.782469     126.437695     143.968215   \n",
      "std        85.732075       0.086605      72.927347      74.268447   \n",
      "min      -176.603480       3.557440       0.000000       0.000000   \n",
      "25%         0.009560       3.741410      64.531000      80.996500   \n",
      "50%         0.009560       3.773560     126.152000     144.421000   \n",
      "75%         0.009560       3.813390     188.089000     207.443000   \n",
      "max       222.893370       4.161120     252.044000     270.765000   \n",
      "\n",
      "                Amb           Temp  \n",
      "count  4.358390e+05  435839.000000  \n",
      "mean   2.626750e+01      34.934164  \n",
      "std    6.600594e-11       1.938317  \n",
      "min    2.626750e+01      26.267500  \n",
      "25%    2.626750e+01      33.803260  \n",
      "50%    2.626750e+01      35.741030  \n",
      "75%    2.626750e+01      36.386950  \n",
      "max    2.626750e+01      37.032870  \n",
      "Run parameters: 1_[5]_relu_earlyStop\n",
      "Restoring model weights from the end of the best epoch\n",
      "Epoch 00056: early stopping\n",
      "Time to train model: 791.5689101219177 seconds\n"
     ]
    }
   ],
   "source": [
    "ANN_hybrid_models_2097 = {}\n",
    "ANN_hybrid_me_2097 = {}\n",
    "\n",
    "df_train = df.copy(deep=True)\n",
    "df_train.drop(columns = ['runtime_s'], inplace = True)\n",
    "try:\n",
    "    df1.drop(columns = ['runtime_s'], inplace = True)\n",
    "except:\n",
    "    pass\n",
    "    \n",
    "print(df_train.describe())\n",
    "print(df1.describe())\n",
    "    \n",
    "hybrid_models_2097, hybrid_me_2097 = tmm.loop_run_instances(identifier = \"ANN\" + '_' + \"full_size\", \n",
    "                                                               loop_name = \"hybrid_model\", \n",
    "                                                               num_layers = 1, \n",
    "                                                               train_dataframe = df_train, \n",
    "                                                               test_dataframe = df1, \n",
    "                                                               num_inputs = 5, \n",
    "                                                               start_window_size = 1, \n",
    "                                                               end_window_size = 1, \n",
    "                                                               window_size_step = 1, \n",
    "                                                               test_size = 0, \n",
    "                                                               num_epochs = 1000)\n",
    "\n",
    "ANN_hybrid_models_2097[\"ANN\" + '_' + \"full_size\"] = hybrid_models_2097\n",
    "ANN_hybrid_me_2097[\"ANN\" + '_' + \"full_size\"] = copy.deepcopy(hybrid_me_2097)"
   ]
  },
  {
   "cell_type": "markdown",
   "metadata": {},
   "source": [
    "## ANN errors"
   ]
  },
  {
   "cell_type": "code",
   "execution_count": 10,
   "metadata": {},
   "outputs": [],
   "source": [
    "importlib.reload(tmm)\n",
    "importlib.reload(tm_gb)\n",
    "\n",
    "ANN_Ah_models_2097_df = tm_gb.extract_complexity(nested_model_dictionary = ANN_Ah_models_2097, \n",
    "                                                 nested_errors_dictionary = ANN_Ah_me_2097)\n",
    "\n",
    "ANN_IV_models_2097_df = tm_gb.extract_complexity(nested_model_dictionary = ANN_IV_models_2097, \n",
    "                                                 nested_errors_dictionary = ANN_IV_me_2097)\n",
    "\n",
    "ANN_hybrid_models_2097_df = tm_gb.extract_complexity(nested_model_dictionary = ANN_hybrid_models_2097, \n",
    "                                                     nested_errors_dictionary = ANN_hybrid_me_2097)"
   ]
  },
  {
   "cell_type": "code",
   "execution_count": 11,
   "metadata": {},
   "outputs": [],
   "source": [
    "ANN_reductions_dict = {\n",
    "    'Ah_model':ANN_Ah_models_2097_df,\n",
    "    'IV_model':ANN_IV_models_2097_df,\n",
    "    'hybrid_model':ANN_hybrid_models_2097_df\n",
    "}"
   ]
  },
  {
   "cell_type": "code",
   "execution_count": 12,
   "metadata": {},
   "outputs": [],
   "source": [
    "import pickle\n",
    "\n",
    "with open('ANN_%reductions_dict.pickle', 'wb') as handle:\n",
    "    pickle.dump(ANN_reductions_dict, handle)\n",
    "\n",
    "for key in ANN_reductions_dict.keys():\n",
    "    ANN_reductions_dict[key].to_csv('ANN_%reductions_' + key + '.csv', index=False)"
   ]
  },
  {
   "cell_type": "markdown",
   "metadata": {},
   "source": [
    "## DNN Ah Model\n",
    "\n",
    "### Data loading and cleaning"
   ]
  },
  {
   "cell_type": "code",
   "execution_count": 13,
   "metadata": {},
   "outputs": [],
   "source": [
    "df = tm_gb.load_csv(filename = 'LDPRF_2097.csv', \n",
    "#                     data_list = ['Program time','AhCha','AhDch','Temp'], \n",
    "                    features_list = ['runtime_s','AhCha','AhDch','Amb','Temp'], \n",
    "                    mode = 0)\n",
    "\n",
    "df1 = tm_gb.load_csv(filename = 'LDPRF_2098.csv', \n",
    "#                      data_list = ['Program time','AhCha','AhDch','Temp'], \n",
    "                     features_list = ['runtime_s','AhCha','AhDch','Amb','Temp'], \n",
    "                     mode = 0)"
   ]
  },
  {
   "cell_type": "code",
   "execution_count": 14,
   "metadata": {
    "scrolled": false
   },
   "outputs": [
    {
     "name": "stdout",
     "output_type": "stream",
     "text": [
      "               AhCha          AhDch           Amb           Temp\n",
      "count  435839.000000  435839.000000  4.358390e+05  435839.000000\n",
      "mean      126.363856     144.644944  2.579465e+01      34.312581\n",
      "std        72.924632      74.703530  2.402277e-10       2.060416\n",
      "min         0.000000       0.000000  2.579465e+01      25.794650\n",
      "25%        64.452000      81.299000  2.579465e+01      33.008410\n",
      "50%       126.039000     145.061000  2.579465e+01      35.085100\n",
      "75%       187.997000     208.479000  2.579465e+01      35.850190\n",
      "max       252.040000     272.253000  2.579465e+01      36.724590\n",
      "               AhCha          AhDch           Amb           Temp\n",
      "count  435839.000000  435839.000000  4.358390e+05  435839.000000\n",
      "mean      126.437695     143.968215  2.626750e+01      34.934164\n",
      "std        72.927347      74.268447  6.600594e-11       1.938317\n",
      "min         0.000000       0.000000  2.626750e+01      26.267500\n",
      "25%        64.531000      80.996500  2.626750e+01      33.803260\n",
      "50%       126.152000     144.421000  2.626750e+01      35.741030\n",
      "75%       188.089000     207.443000  2.626750e+01      36.386950\n",
      "max       252.044000     270.765000  2.626750e+01      37.032870\n",
      "Run parameters: 1_[3, 3]_relu_earlyStop\n",
      "Restoring model weights from the end of the best epoch\n",
      "Epoch 00163: early stopping\n",
      "Time to train model: 2339.326777935028 seconds\n"
     ]
    }
   ],
   "source": [
    "DNN_Ah_models_2097 = {}\n",
    "DNN_Ah_me_2097 = {}\n",
    "\n",
    "df_train = df.copy(deep=True)\n",
    "df_train.drop(columns = ['runtime_s'], inplace = True)\n",
    "try:\n",
    "    df1.drop(columns = ['runtime_s'], inplace = True)\n",
    "except:\n",
    "    pass\n",
    "    \n",
    "print(df_train.describe())\n",
    "print(df1.describe())\n",
    "    \n",
    "Ah_models_2097, Ah_me_2097 = tmm.loop_run_instances(identifier = \"DNN\" + '_' + \"full_size\", \n",
    "                                                       loop_name = \"Ah_model\", \n",
    "                                                       num_layers = 2, \n",
    "                                                       train_dataframe = df_train, \n",
    "                                                       test_dataframe = df1, \n",
    "                                                       num_inputs = 3, \n",
    "                                                       start_window_size = 1, \n",
    "                                                       end_window_size = 1, \n",
    "                                                       window_size_step = 1, \n",
    "                                                       test_size = 0, \n",
    "                                                       num_epochs = 1000)\n",
    "\n",
    "DNN_Ah_models_2097[\"DNN\" + '_' + \"full_size\"] = Ah_models_2097\n",
    "DNN_Ah_me_2097[\"DNN\" + '_' + \"full_size\"] = copy.deepcopy(Ah_me_2097)"
   ]
  },
  {
   "cell_type": "markdown",
   "metadata": {},
   "source": [
    "## DNN IV Model\n",
    "\n",
    "### Data loading and cleaning"
   ]
  },
  {
   "cell_type": "code",
   "execution_count": 15,
   "metadata": {},
   "outputs": [],
   "source": [
    "df = tm_gb.load_csv(filename = 'LDPRF_2097.csv', \n",
    "#                     data_list = ['Program time','AhCha','AhDch','Temp'], \n",
    "                    features_list = ['runtime_s','Current','Voltage','Amb','Temp'], \n",
    "                    mode = 1)\n",
    "\n",
    "df1 = tm_gb.load_csv(filename = 'LDPRF_2098.csv', \n",
    "#                      data_list = ['Program time','AhCha','AhDch','Temp'], \n",
    "                     features_list = ['runtime_s','Current','Voltage','Amb','Temp'], \n",
    "                     mode = 1)"
   ]
  },
  {
   "cell_type": "code",
   "execution_count": 16,
   "metadata": {
    "scrolled": false
   },
   "outputs": [
    {
     "name": "stdout",
     "output_type": "stream",
     "text": [
      "             Current        Voltage           Amb           Temp\n",
      "count  435839.000000  435839.000000  4.358390e+05  435839.000000\n",
      "mean       -0.595961       3.775370  2.579465e+01      34.312581\n",
      "std        85.854861       0.091213  2.402277e-10       2.060416\n",
      "min      -177.639340       3.536830  2.579465e+01      25.794650\n",
      "25%         0.009580       3.730960  2.579465e+01      33.008410\n",
      "50%         0.009580       3.766810  2.579465e+01      35.085100\n",
      "75%         0.019150       3.807290  2.579465e+01      35.850190\n",
      "max       223.268950       4.160100  2.579465e+01      36.724590\n",
      "             Current        Voltage           Amb           Temp\n",
      "count  435839.000000  435839.000000  4.358390e+05  435839.000000\n",
      "mean       -0.497548       3.782469  2.626750e+01      34.934164\n",
      "std        85.732075       0.086605  6.600594e-11       1.938317\n",
      "min      -176.603480       3.557440  2.626750e+01      26.267500\n",
      "25%         0.009560       3.741410  2.626750e+01      33.803260\n",
      "50%         0.009560       3.773560  2.626750e+01      35.741030\n",
      "75%         0.009560       3.813390  2.626750e+01      36.386950\n",
      "max       222.893370       4.161120  2.626750e+01      37.032870\n",
      "Run parameters: 1_[3, 3]_relu_earlyStop\n",
      "Restoring model weights from the end of the best epoch\n",
      "Epoch 00154: early stopping\n",
      "Time to train model: 2160.6920866966248 seconds\n"
     ]
    }
   ],
   "source": [
    "DNN_IV_models_2097 = {}\n",
    "DNN_IV_me_2097 = {}\n",
    "\n",
    "df_train = df.copy(deep=True)\n",
    "df_train.drop(columns = ['runtime_s'], inplace = True)\n",
    "try:\n",
    "    df1.drop(columns = ['runtime_s'], inplace = True)\n",
    "except:\n",
    "    pass\n",
    "    \n",
    "print(df_train.describe())\n",
    "print(df1.describe())\n",
    "    \n",
    "IV_models_2097, IV_me_2097 = tmm.loop_run_instances(identifier = \"DNN\" + '_' + \"full_size\", \n",
    "                                                       loop_name = \"IV_model\", \n",
    "                                                       num_layers = 2, \n",
    "                                                       train_dataframe = df_train, \n",
    "                                                       test_dataframe = df1, \n",
    "                                                       num_inputs = 3, \n",
    "                                                       start_window_size = 1, \n",
    "                                                       end_window_size = 1, \n",
    "                                                       window_size_step = 1, \n",
    "                                                       test_size = 0, \n",
    "                                                       num_epochs = 1000)\n",
    "\n",
    "DNN_IV_models_2097[\"DNN\" + '_' + \"full_size\"] = IV_models_2097\n",
    "DNN_IV_me_2097[\"DNN\" + '_' + \"full_size\"] = copy.deepcopy(IV_me_2097)"
   ]
  },
  {
   "cell_type": "markdown",
   "metadata": {},
   "source": [
    "## DNN Hybrid Model\n",
    "\n",
    "### Data loading and cleaning"
   ]
  },
  {
   "cell_type": "code",
   "execution_count": 17,
   "metadata": {},
   "outputs": [],
   "source": [
    "df = tm_gb.load_csv(filename = 'LDPRF_2097.csv', \n",
    "#                     data_list = ['Program time','Current','Voltage','AhCha','AhDch','Temp'], \n",
    "                    features_list = ['runtime_s','Current','Voltage','AhCha','AhDch','Amb','Temp'], \n",
    "                    mode = 2)\n",
    "\n",
    "df1 = tm_gb.load_csv(filename = 'LDPRF_2098.csv', \n",
    "#                      data_list = ['Program time','Current','Voltage','AhCha','AhDch','Temp'], \n",
    "                     features_list = ['runtime_s','Current','Voltage','AhCha','AhDch','Amb','Temp'], \n",
    "                     mode = 2)"
   ]
  },
  {
   "cell_type": "code",
   "execution_count": 18,
   "metadata": {
    "scrolled": false
   },
   "outputs": [
    {
     "name": "stdout",
     "output_type": "stream",
     "text": [
      "             Current        Voltage          AhCha          AhDch  \\\n",
      "count  435839.000000  435839.000000  435839.000000  435839.000000   \n",
      "mean       -0.595961       3.775370     126.363856     144.644944   \n",
      "std        85.854861       0.091213      72.924632      74.703530   \n",
      "min      -177.639340       3.536830       0.000000       0.000000   \n",
      "25%         0.009580       3.730960      64.452000      81.299000   \n",
      "50%         0.009580       3.766810     126.039000     145.061000   \n",
      "75%         0.019150       3.807290     187.997000     208.479000   \n",
      "max       223.268950       4.160100     252.040000     272.253000   \n",
      "\n",
      "                Amb           Temp  \n",
      "count  4.358390e+05  435839.000000  \n",
      "mean   2.579465e+01      34.312581  \n",
      "std    2.402277e-10       2.060416  \n",
      "min    2.579465e+01      25.794650  \n",
      "25%    2.579465e+01      33.008410  \n",
      "50%    2.579465e+01      35.085100  \n",
      "75%    2.579465e+01      35.850190  \n",
      "max    2.579465e+01      36.724590  \n",
      "             Current        Voltage          AhCha          AhDch  \\\n",
      "count  435839.000000  435839.000000  435839.000000  435839.000000   \n",
      "mean       -0.497548       3.782469     126.437695     143.968215   \n",
      "std        85.732075       0.086605      72.927347      74.268447   \n",
      "min      -176.603480       3.557440       0.000000       0.000000   \n",
      "25%         0.009560       3.741410      64.531000      80.996500   \n",
      "50%         0.009560       3.773560     126.152000     144.421000   \n",
      "75%         0.009560       3.813390     188.089000     207.443000   \n",
      "max       222.893370       4.161120     252.044000     270.765000   \n",
      "\n",
      "                Amb           Temp  \n",
      "count  4.358390e+05  435839.000000  \n",
      "mean   2.626750e+01      34.934164  \n",
      "std    6.600594e-11       1.938317  \n",
      "min    2.626750e+01      26.267500  \n",
      "25%    2.626750e+01      33.803260  \n",
      "50%    2.626750e+01      35.741030  \n",
      "75%    2.626750e+01      36.386950  \n",
      "max    2.626750e+01      37.032870  \n",
      "Run parameters: 1_[5, 5]_relu_earlyStop\n",
      "Restoring model weights from the end of the best epoch\n",
      "Epoch 00037: early stopping\n",
      "Time to train model: 513.9118633270264 seconds\n"
     ]
    }
   ],
   "source": [
    "DNN_hybrid_models_2097 = {}\n",
    "DNN_hybrid_me_2097 = {}\n",
    "\n",
    "df_train = df.copy(deep=True)\n",
    "df_train.drop(columns = ['runtime_s'], inplace = True)\n",
    "try:\n",
    "    df1.drop(columns = ['runtime_s'], inplace = True)\n",
    "except:\n",
    "    pass\n",
    "    \n",
    "print(df_train.describe())\n",
    "print(df1.describe())\n",
    "    \n",
    "hybrid_models_2097, hybrid_me_2097 = tmm.loop_run_instances(identifier = \"DNN\" + '_' + \"full_size\", \n",
    "                                                               loop_name = \"hybrid_model\", \n",
    "                                                               num_layers = 2, \n",
    "                                                               train_dataframe = df_train, \n",
    "                                                               test_dataframe = df1, \n",
    "                                                               num_inputs = 5, \n",
    "                                                               start_window_size = 1, \n",
    "                                                               end_window_size = 1, \n",
    "                                                               window_size_step = 1, \n",
    "                                                               test_size = 0, \n",
    "                                                               num_epochs = 1000)\n",
    "\n",
    "DNN_hybrid_models_2097[\"DNN\" + '_' + \"full_size\"] = hybrid_models_2097\n",
    "DNN_hybrid_me_2097[\"DNN\" + '_' + \"full_size\"] = copy.deepcopy(hybrid_me_2097)"
   ]
  },
  {
   "cell_type": "markdown",
   "metadata": {},
   "source": [
    "## DNN errors"
   ]
  },
  {
   "cell_type": "code",
   "execution_count": 19,
   "metadata": {},
   "outputs": [],
   "source": [
    "importlib.reload(tmm)\n",
    "importlib.reload(tm_gb)\n",
    "\n",
    "DNN_Ah_models_2097_df = tm_gb.extract_complexity(nested_model_dictionary = DNN_Ah_models_2097, \n",
    "                                                 nested_errors_dictionary = DNN_Ah_me_2097)\n",
    "\n",
    "DNN_IV_models_2097_df = tm_gb.extract_complexity(nested_model_dictionary = DNN_IV_models_2097, \n",
    "                                                 nested_errors_dictionary = DNN_IV_me_2097)\n",
    "\n",
    "DNN_hybrid_models_2097_df = tm_gb.extract_complexity(nested_model_dictionary = DNN_hybrid_models_2097, \n",
    "                                                     nested_errors_dictionary = DNN_hybrid_me_2097)"
   ]
  },
  {
   "cell_type": "code",
   "execution_count": 20,
   "metadata": {},
   "outputs": [],
   "source": [
    "DNN_reductions_dict = {\n",
    "    'Ah_model':DNN_Ah_models_2097_df,\n",
    "    'IV_model':DNN_IV_models_2097_df,\n",
    "    'hybrid_model':DNN_hybrid_models_2097_df\n",
    "}"
   ]
  },
  {
   "cell_type": "code",
   "execution_count": 21,
   "metadata": {},
   "outputs": [],
   "source": [
    "import pickle\n",
    "\n",
    "with open('DNN_%reductions_dict.pickle', 'wb') as handle:\n",
    "    pickle.dump(DNN_reductions_dict, handle)\n",
    "\n",
    "for key in DNN_reductions_dict.keys():\n",
    "    DNN_reductions_dict[key].to_csv('DNN_%reductions_' + key + '.csv', index=False)"
   ]
  }
 ],
 "metadata": {
  "kernelspec": {
   "display_name": "Python 3",
   "language": "python",
   "name": "python3"
  },
  "language_info": {
   "codemirror_mode": {
    "name": "ipython",
    "version": 3
   },
   "file_extension": ".py",
   "mimetype": "text/x-python",
   "name": "python",
   "nbconvert_exporter": "python",
   "pygments_lexer": "ipython3",
   "version": "3.7.3"
  }
 },
 "nbformat": 4,
 "nbformat_minor": 2
}
