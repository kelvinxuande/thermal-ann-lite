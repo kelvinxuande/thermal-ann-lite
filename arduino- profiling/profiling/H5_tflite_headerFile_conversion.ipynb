{
 "cells": [
  {
   "cell_type": "markdown",
   "metadata": {
    "colab_type": "text",
    "id": "aCZBFzjClURz"
   },
   "source": [
    "## Model File Conversions"
   ]
  },
  {
   "cell_type": "markdown",
   "metadata": {},
   "source": [
    "References:\n",
    "\n",
    "https://www.tensorflow.org/lite/microcontrollers, https://blog.arduino.cc/2019/10/15/get-started-with-machine-learning-on-arduino/"
   ]
  },
  {
   "cell_type": "code",
   "execution_count": 1,
   "metadata": {},
   "outputs": [],
   "source": [
    "# Do necessary imports\n",
    "import tensorflow as tf\n",
    "from tensorflow import keras\n",
    "from tensorflow.keras import layers"
   ]
  },
  {
   "cell_type": "code",
   "execution_count": 2,
   "metadata": {},
   "outputs": [
    {
     "name": "stdout",
     "output_type": "stream",
     "text": [
      "['ANN_Ah_12.h5', 'ANN_Ah_22.h5', 'ANN_hybrid_12.h5', 'ANN_hybrid_22.h5', 'ANN_IV_12.h5', 'ANN_IV_22.h5', 'DNN_Ah_12.h5', 'DNN_Ah_22.h5', 'DNN_hybrid_12.h5', 'DNN_hybrid_22.h5', 'DNN_IV_12.h5', 'DNN_IV_22.h5']\n"
     ]
    }
   ],
   "source": [
    "import glob\n",
    "list_keras_filenames = []\n",
    "\n",
    "for file in glob.glob(\"*.h5\"):\n",
    "    list_keras_filenames.append(file)\n",
    "    \n",
    "print(list_keras_filenames)"
   ]
  },
  {
   "cell_type": "code",
   "execution_count": 3,
   "metadata": {},
   "outputs": [
    {
     "name": "stdout",
     "output_type": "stream",
     "text": [
      "Conversion: ANN_Ah_12.h5 >> ANN_Ah_12.tflite >> ANN_Ah_12.h done!\n",
      "Conversion: ANN_Ah_22.h5 >> ANN_Ah_22.tflite >> ANN_Ah_22.h done!\n",
      "Conversion: ANN_hybrid_12.h5 >> ANN_hybrid_12.tflite >> ANN_hybrid_12.h done!\n",
      "Conversion: ANN_hybrid_22.h5 >> ANN_hybrid_22.tflite >> ANN_hybrid_22.h done!\n",
      "Conversion: ANN_IV_12.h5 >> ANN_IV_12.tflite >> ANN_IV_12.h done!\n",
      "Conversion: ANN_IV_22.h5 >> ANN_IV_22.tflite >> ANN_IV_22.h done!\n",
      "Conversion: DNN_Ah_12.h5 >> DNN_Ah_12.tflite >> DNN_Ah_12.h done!\n",
      "Conversion: DNN_Ah_22.h5 >> DNN_Ah_22.tflite >> DNN_Ah_22.h done!\n",
      "Conversion: DNN_hybrid_12.h5 >> DNN_hybrid_12.tflite >> DNN_hybrid_12.h done!\n",
      "Conversion: DNN_hybrid_22.h5 >> DNN_hybrid_22.tflite >> DNN_hybrid_22.h done!\n",
      "Conversion: DNN_IV_12.h5 >> DNN_IV_12.tflite >> DNN_IV_12.h done!\n",
      "Conversion: DNN_IV_22.h5 >> DNN_IV_22.tflite >> DNN_IV_22.h done!\n"
     ]
    }
   ],
   "source": [
    "for keras_filename in list_keras_filenames:\n",
    "    keras_model = tf.keras.models.load_model(keras_filename)\n",
    "    \n",
    "    # Convert the model to the TensorFlow Lite format with float16 quantization\n",
    "    converter = tf.lite.TFLiteConverter.from_keras_model(keras_model)\n",
    "    model = converter.convert()\n",
    "    \n",
    "    # Save the tflite model to disk\n",
    "    tflite_filename = keras_filename.strip(\".h5\") + \".tflite\"\n",
    "    open(tflite_filename, \"wb\").write(model)\n",
    "    \n",
    "    # hexdump the tflite file with name {tflite_name} into a cc header file, with the same name\n",
    "    h_filename = keras_filename.strip(\".h5\") + \".h\"\n",
    "    !xxd -i $tflite_filename > $h_filename\n",
    "    print(\"Conversion: {} >> {} >> {} done!\".format(keras_filename, tflite_filename, h_filename))"
   ]
  },
  {
   "cell_type": "markdown",
   "metadata": {},
   "source": [
    "Note: Write to a C file\n",
    "\n",
    "The final step in preparing our model for use with TensorFlow Lite for Microcontrollers was to convert it into a C source file. You can see an example of this format in [`hello_world/sine_model_data.cc`](https://github.com/tensorflow/tensorflow/blob/master/tensorflow/lite/micro/examples/hello_world/sine_model_data.cc). To do so, we can use a command line utility named [`xxd`](https://linux.die.net/man/1/xxd)."
   ]
  }
 ],
 "metadata": {
  "colab": {
   "collapsed_sections": [],
   "name": "create_sine_model.ipynb",
   "provenance": [],
   "toc_visible": true
  },
  "kernelspec": {
   "display_name": "Python 3",
   "language": "python",
   "name": "python3"
  },
  "language_info": {
   "codemirror_mode": {
    "name": "ipython",
    "version": 3
   },
   "file_extension": ".py",
   "mimetype": "text/x-python",
   "name": "python",
   "nbconvert_exporter": "python",
   "pygments_lexer": "ipython3",
   "version": "3.7.3"
  }
 },
 "nbformat": 4,
 "nbformat_minor": 1
}
